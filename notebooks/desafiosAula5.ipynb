{
 "metadata": {
  "language_info": {
   "codemirror_mode": {
    "name": "ipython",
    "version": 3
   },
   "file_extension": ".py",
   "mimetype": "text/x-python",
   "name": "python",
   "nbconvert_exporter": "python",
   "pygments_lexer": "ipython3",
   "version": 3
  },
  "orig_nbformat": 2
 },
 "nbformat": 4,
 "nbformat_minor": 2,
 "cells": [
  {
   "source": [
    "# Desafios\n",
    "### Desafio 01: Tente outros modelos ou mude parâmetros dos modelos que testamos em aula\n",
    "### Desafio 02: Estude a documentação do Sklearn\n",
    "### Desafio 03: Pesquisar o fluxograma 'Escolhendo o melhor modelo'\n",
    "### Desafio 04: Teste com outros problemas. \n",
    "### Desafio 05: Escolha uma outra váriavel"
   ],
   "cell_type": "markdown",
   "metadata": {}
  },
  {
   "cell_type": "code",
   "execution_count": null,
   "metadata": {},
   "outputs": [],
   "source": []
  }
 ]
}